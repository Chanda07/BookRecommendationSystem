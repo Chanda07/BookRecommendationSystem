{
 "cells": [
  {
   "cell_type": "code",
   "execution_count": null,
   "id": "5c86d652",
   "metadata": {},
   "outputs": [],
   "source": [
    "#Import required libraries\n",
    "import numpy as np\n",
    "import pandas as pd\n",
    "\n",
    "from sklearn.feature_extraction.text import TfidfVectorizer\n",
    "from sklearn.metrics.pairwise import cosine_similarity\n",
    "from sklearn.metrics import confusion_matrix, plot_confusion_matrix\n",
    "from sklearn import metrics\n",
    "import matplotlib.pyplot as plt\n",
    "import seaborn as sns\n"
   ]
  },
  {
   "cell_type": "code",
   "execution_count": null,
   "id": "3b748252",
   "metadata": {},
   "outputs": [],
   "source": [
    "df = pd.read_csv(\"books.csv\")\n",
    "df.head(5)"
   ]
  },
  {
   "cell_type": "code",
   "execution_count": null,
   "id": "9be5ac64",
   "metadata": {},
   "outputs": [],
   "source": [
    "df1 = pd.read_csv(\"Ratings.csv\")\n",
    "df1.head(5)"
   ]
  },
  {
   "cell_type": "code",
   "execution_count": null,
   "id": "e156cd85",
   "metadata": {},
   "outputs": [],
   "source": [
    "df.info()"
   ]
  },
  {
   "cell_type": "code",
   "execution_count": null,
   "id": "dd2727bb",
   "metadata": {},
   "outputs": [],
   "source": [
    "df1.info()"
   ]
  },
  {
   "cell_type": "code",
   "execution_count": null,
   "id": "8cb45ec6",
   "metadata": {},
   "outputs": [],
   "source": [
    "df1.columns = ['book_number','Rating']\n",
    "df2 = df.merge(df1, on = 'book_number')"
   ]
  },
  {
   "cell_type": "code",
   "execution_count": null,
   "id": "88be92b5",
   "metadata": {},
   "outputs": [],
   "source": [
    "df2.head(5)"
   ]
  },
  {
   "cell_type": "code",
   "execution_count": null,
   "id": "8d9b3fc9",
   "metadata": {},
   "outputs": [],
   "source": [
    "df2.shape"
   ]
  },
  {
   "cell_type": "code",
   "execution_count": null,
   "id": "7f92c028",
   "metadata": {},
   "outputs": [],
   "source": [
    "df2.columns"
   ]
  },
  {
   "cell_type": "code",
   "execution_count": null,
   "id": "ee9589bf",
   "metadata": {},
   "outputs": [],
   "source": [
    "#Select necessary columns from the csv file.\n",
    "df2=df2[['book_number','authors','title','Rating']]"
   ]
  },
  {
   "cell_type": "code",
   "execution_count": null,
   "id": "24fc4198",
   "metadata": {},
   "outputs": [],
   "source": [
    "#Data Preprocessing\n",
    "#loc is utilized to pick rows by label or index.\n",
    "#Select the value by the row and column label.\n",
    "df2.loc[(df2['authors'].isnull()), 'authors'] = 'Unknown' \n",
    "df2.loc[(df2['title'].isnull()), 'title'] = 'Unknown'\n",
    "\n",
    "#Converting data into the lower cases\n",
    "df2['title'] = df2['title'].apply(lambda x: \" \".join(x.lower() for x in x.split())) \n",
    "df2['authors'] = df2['authors'].apply(lambda x: \" \".join(x.lower() for x in x.split()))\n",
    "\n",
    "#Maintain all the information from the selected data column separate using commas in the \"words\".\n",
    "df2['words'] = \"\" \n",
    "df2.loc[:,'words'] = df2.loc[:, 'title'] +', '+ df2.loc[:, 'authors']  "
   ]
  },
  {
   "cell_type": "code",
   "execution_count": null,
   "id": "8d89e042",
   "metadata": {},
   "outputs": [],
   "source": [
    "df2.head()"
   ]
  },
  {
   "cell_type": "code",
   "execution_count": null,
   "id": "017efba8",
   "metadata": {},
   "outputs": [],
   "source": [
    "df2.Rating.value_counts()"
   ]
  },
  {
   "cell_type": "code",
   "execution_count": null,
   "id": "a3de8281",
   "metadata": {},
   "outputs": [],
   "source": [
    "from sklearn.preprocessing import LabelEncoder\n",
    "\n",
    "LE = LabelEncoder()"
   ]
  },
  {
   "cell_type": "code",
   "execution_count": null,
   "id": "c7ac98d0",
   "metadata": {},
   "outputs": [],
   "source": [
    "sns.heatmap(df2.corr(), annot = True)"
   ]
  },
  {
   "cell_type": "code",
   "execution_count": null,
   "id": "2d67262c",
   "metadata": {},
   "outputs": [],
   "source": [
    "#Creating a vector for the book datas\n",
    "\n",
    "#The word count is specified and the sparse matrix got as a output.\n",
    "vectorizer = TfidfVectorizer()\n",
    "tfidf = vectorizer.fit_transform(df2[\"words\"]) "
   ]
  },
  {
   "cell_type": "code",
   "execution_count": null,
   "id": "7848a0b3",
   "metadata": {},
   "outputs": [],
   "source": [
    "#Calculate similarity by cosine similarity\n",
    "cosine_sim = cosine_similarity(tfidf, tfidf)\n",
    "cosine_sim"
   ]
  },
  {
   "cell_type": "code",
   "execution_count": null,
   "id": "f1981303",
   "metadata": {},
   "outputs": [],
   "source": [
    "from sklearn.utils import resample\n",
    "zero = df1[df1.Rating ==0 ]\n",
    "one = df1[df1.Rating == 1]"
   ]
  },
  {
   "cell_type": "code",
   "execution_count": null,
   "id": "8b4f2a26",
   "metadata": {},
   "outputs": [],
   "source": [
    "len(zero)"
   ]
  },
  {
   "cell_type": "code",
   "execution_count": null,
   "id": "b294bed2",
   "metadata": {},
   "outputs": [],
   "source": [
    "df_final = resample(one, n_samples = len(zero))\n",
    "df_Final = pd.concat([df_final,zero],axis = 0)"
   ]
  },
  {
   "cell_type": "code",
   "execution_count": null,
   "id": "405a15df",
   "metadata": {},
   "outputs": [],
   "source": [
    "df_Final.Rating.value_counts()"
   ]
  },
  {
   "cell_type": "code",
   "execution_count": null,
   "id": "086b8732",
   "metadata": {},
   "outputs": [],
   "source": [
    "from sklearn.model_selection import train_test_split\n",
    "X = df_Final.drop(columns = ['Rating'])\n",
    "y = df_Final['Rating']\n",
    "x_train,x_test,y_train,y_test = train_test_split(X,y,test_size = 0.5, random_state = 42)"
   ]
  },
  {
   "cell_type": "code",
   "execution_count": null,
   "id": "fbee9cab",
   "metadata": {},
   "outputs": [],
   "source": [
    "x_train.shape"
   ]
  },
  {
   "cell_type": "code",
   "execution_count": null,
   "id": "5fdaf98f",
   "metadata": {},
   "outputs": [],
   "source": [
    "cm_x = x_train[:1000]\n",
    "cm_y = y_train[:1000]"
   ]
  },
  {
   "cell_type": "code",
   "execution_count": null,
   "id": "f3b86e04",
   "metadata": {},
   "outputs": [],
   "source": [
    "from sklearn.ensemble import RandomForestClassifier\n",
    "RFC = RandomForestClassifier(random_state=43)"
   ]
  },
  {
   "cell_type": "code",
   "execution_count": null,
   "id": "cbbf3b77",
   "metadata": {},
   "outputs": [],
   "source": [
    "model = RFC.fit(cm_x,cm_y)"
   ]
  },
  {
   "cell_type": "code",
   "execution_count": null,
   "id": "b1c17c4f",
   "metadata": {},
   "outputs": [],
   "source": [
    "y_pred = model.predict(x_test)"
   ]
  },
  {
   "cell_type": "code",
   "execution_count": null,
   "id": "6ba2fe56",
   "metadata": {},
   "outputs": [],
   "source": [
    "from sklearn.metrics import classification_report, confusion_matrix\n",
    "report = classification_report(y_test,y_pred)"
   ]
  },
  {
   "cell_type": "code",
   "execution_count": null,
   "id": "174ec06e",
   "metadata": {},
   "outputs": [],
   "source": [
    "print(report)"
   ]
  },
  {
   "cell_type": "code",
   "execution_count": null,
   "id": "61f97c48",
   "metadata": {},
   "outputs": [],
   "source": [
    "from sklearn.metrics import plot_confusion_matrix\n",
    "plot_confusion_matrix(model, x_test, y_test)\n",
    "plt.show()"
   ]
  },
  {
   "cell_type": "code",
   "execution_count": null,
   "id": "1028f59e",
   "metadata": {},
   "outputs": [],
   "source": [
    " "
   ]
  },
  {
   "cell_type": "code",
   "execution_count": null,
   "id": "667f745a",
   "metadata": {},
   "outputs": [],
   "source": []
  },
  {
   "cell_type": "code",
   "execution_count": null,
   "id": "32e99919",
   "metadata": {},
   "outputs": [],
   "source": []
  },
  {
   "cell_type": "code",
   "execution_count": null,
   "id": "e73c7c23",
   "metadata": {},
   "outputs": [],
   "source": []
  }
 ],
 "metadata": {
  "kernelspec": {
   "display_name": "Python 3 (ipykernel)",
   "language": "python",
   "name": "python3"
  },
  "language_info": {
   "codemirror_mode": {
    "name": "ipython",
    "version": 3
   },
   "file_extension": ".py",
   "mimetype": "text/x-python",
   "name": "python",
   "nbconvert_exporter": "python",
   "pygments_lexer": "ipython3",
   "version": "3.9.12"
  }
 },
 "nbformat": 4,
 "nbformat_minor": 5
}
