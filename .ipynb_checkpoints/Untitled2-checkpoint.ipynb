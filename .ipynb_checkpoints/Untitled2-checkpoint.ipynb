{
 "cells": [
  {
   "cell_type": "code",
   "execution_count": 33,
   "id": "7451b0d2",
   "metadata": {},
   "outputs": [],
   "source": [
    "#Import required libraries\n",
    "import numpy as np\n",
    "import pandas as pd\n",
    "\n",
    "from sklearn.feature_extraction.text import TfidfVectorizer\n",
    "from sklearn.metrics.pairwise import cosine_similarity\n",
    "from sklearn.metrics import confusion_matrix, plot_confusion_matrix\n",
    "from sklearn import metrics\n",
    "import matplotlib.pyplot as plt\n",
    "import seaborn as sns\n"
   ]
  },
  {
   "cell_type": "code",
   "execution_count": 34,
   "id": "f2c6e1f8",
   "metadata": {},
   "outputs": [
    {
     "data": {
      "text/html": [
       "<div>\n",
       "<style scoped>\n",
       "    .dataframe tbody tr th:only-of-type {\n",
       "        vertical-align: middle;\n",
       "    }\n",
       "\n",
       "    .dataframe tbody tr th {\n",
       "        vertical-align: top;\n",
       "    }\n",
       "\n",
       "    .dataframe thead th {\n",
       "        text-align: right;\n",
       "    }\n",
       "</style>\n",
       "<table border=\"1\" class=\"dataframe\">\n",
       "  <thead>\n",
       "    <tr style=\"text-align: right;\">\n",
       "      <th></th>\n",
       "      <th>id</th>\n",
       "      <th>book_id</th>\n",
       "      <th>best_book_id</th>\n",
       "      <th>work_id</th>\n",
       "      <th>book_number</th>\n",
       "      <th>authors</th>\n",
       "      <th>original_publication_year</th>\n",
       "      <th>original_title</th>\n",
       "      <th>title</th>\n",
       "      <th>language_code</th>\n",
       "      <th>...</th>\n",
       "      <th>ratings_count</th>\n",
       "      <th>work_ratings_count</th>\n",
       "      <th>work_text_reviews_count</th>\n",
       "      <th>ratings_1</th>\n",
       "      <th>ratings_2</th>\n",
       "      <th>ratings_3</th>\n",
       "      <th>ratings_4</th>\n",
       "      <th>ratings_5</th>\n",
       "      <th>image_url</th>\n",
       "      <th>small_image_url</th>\n",
       "    </tr>\n",
       "  </thead>\n",
       "  <tbody>\n",
       "    <tr>\n",
       "      <th>0</th>\n",
       "      <td>1</td>\n",
       "      <td>2767052</td>\n",
       "      <td>2767052</td>\n",
       "      <td>2792775</td>\n",
       "      <td>272</td>\n",
       "      <td>Suzanne Collins</td>\n",
       "      <td>2008.0</td>\n",
       "      <td>The Hunger Games</td>\n",
       "      <td>The Hunger Games (The Hunger Games, #1)</td>\n",
       "      <td>eng</td>\n",
       "      <td>...</td>\n",
       "      <td>4780653</td>\n",
       "      <td>4942365</td>\n",
       "      <td>155254</td>\n",
       "      <td>66715</td>\n",
       "      <td>127936</td>\n",
       "      <td>560092</td>\n",
       "      <td>1481305</td>\n",
       "      <td>2706317</td>\n",
       "      <td>https://images.gr-assets.com/books/1447303603m...</td>\n",
       "      <td>https://images.gr-assets.com/books/1447303603s...</td>\n",
       "    </tr>\n",
       "    <tr>\n",
       "      <th>1</th>\n",
       "      <td>2</td>\n",
       "      <td>3</td>\n",
       "      <td>3</td>\n",
       "      <td>4640799</td>\n",
       "      <td>491</td>\n",
       "      <td>JK Rowling</td>\n",
       "      <td>1997.0</td>\n",
       "      <td>Harry Potter and the Philosopher's Stone</td>\n",
       "      <td>Harry Potter and the Sorcerer's Stone (Harry P...</td>\n",
       "      <td>eng</td>\n",
       "      <td>...</td>\n",
       "      <td>4602479</td>\n",
       "      <td>4800065</td>\n",
       "      <td>75867</td>\n",
       "      <td>75504</td>\n",
       "      <td>101676</td>\n",
       "      <td>455024</td>\n",
       "      <td>1156318</td>\n",
       "      <td>3011543</td>\n",
       "      <td>https://images.gr-assets.com/books/1474154022m...</td>\n",
       "      <td>https://images.gr-assets.com/books/1474154022s...</td>\n",
       "    </tr>\n",
       "    <tr>\n",
       "      <th>2</th>\n",
       "      <td>3</td>\n",
       "      <td>41865</td>\n",
       "      <td>41865</td>\n",
       "      <td>3212258</td>\n",
       "      <td>226</td>\n",
       "      <td>Stephenie Meyer</td>\n",
       "      <td>2005.0</td>\n",
       "      <td>Twilight</td>\n",
       "      <td>Twilight (Twilight, #1)</td>\n",
       "      <td>en-US</td>\n",
       "      <td>...</td>\n",
       "      <td>3866839</td>\n",
       "      <td>3916824</td>\n",
       "      <td>95009</td>\n",
       "      <td>456191</td>\n",
       "      <td>436802</td>\n",
       "      <td>793319</td>\n",
       "      <td>875073</td>\n",
       "      <td>1355439</td>\n",
       "      <td>https://images.gr-assets.com/books/1361039443m...</td>\n",
       "      <td>https://images.gr-assets.com/books/1361039443s...</td>\n",
       "    </tr>\n",
       "    <tr>\n",
       "      <th>3</th>\n",
       "      <td>4</td>\n",
       "      <td>2657</td>\n",
       "      <td>2657</td>\n",
       "      <td>3275794</td>\n",
       "      <td>487</td>\n",
       "      <td>Harper Lee</td>\n",
       "      <td>1960.0</td>\n",
       "      <td>To Kill a Mockingbird</td>\n",
       "      <td>To Kill a Mockingbird</td>\n",
       "      <td>eng</td>\n",
       "      <td>...</td>\n",
       "      <td>3198671</td>\n",
       "      <td>3340896</td>\n",
       "      <td>72586</td>\n",
       "      <td>60427</td>\n",
       "      <td>117415</td>\n",
       "      <td>446835</td>\n",
       "      <td>1001952</td>\n",
       "      <td>1714267</td>\n",
       "      <td>https://images.gr-assets.com/books/1361975680m...</td>\n",
       "      <td>https://images.gr-assets.com/books/1361975680s...</td>\n",
       "    </tr>\n",
       "    <tr>\n",
       "      <th>4</th>\n",
       "      <td>5</td>\n",
       "      <td>4671</td>\n",
       "      <td>4671</td>\n",
       "      <td>245494</td>\n",
       "      <td>1356</td>\n",
       "      <td>F Scott Fitzgerald</td>\n",
       "      <td>1925.0</td>\n",
       "      <td>The Great Gatsby</td>\n",
       "      <td>The Great Gatsby</td>\n",
       "      <td>eng</td>\n",
       "      <td>...</td>\n",
       "      <td>2683664</td>\n",
       "      <td>2773745</td>\n",
       "      <td>51992</td>\n",
       "      <td>86236</td>\n",
       "      <td>197621</td>\n",
       "      <td>606158</td>\n",
       "      <td>936012</td>\n",
       "      <td>947718</td>\n",
       "      <td>https://images.gr-assets.com/books/1490528560m...</td>\n",
       "      <td>https://images.gr-assets.com/books/1490528560s...</td>\n",
       "    </tr>\n",
       "  </tbody>\n",
       "</table>\n",
       "<p>5 rows × 21 columns</p>\n",
       "</div>"
      ],
      "text/plain": [
       "   id  book_id  best_book_id  work_id  book_number             authors  \\\n",
       "0   1  2767052       2767052  2792775          272     Suzanne Collins   \n",
       "1   2        3             3  4640799          491          JK Rowling   \n",
       "2   3    41865         41865  3212258          226     Stephenie Meyer   \n",
       "3   4     2657          2657  3275794          487          Harper Lee   \n",
       "4   5     4671          4671   245494         1356  F Scott Fitzgerald   \n",
       "\n",
       "   original_publication_year                            original_title  \\\n",
       "0                     2008.0                          The Hunger Games   \n",
       "1                     1997.0  Harry Potter and the Philosopher's Stone   \n",
       "2                     2005.0                                  Twilight   \n",
       "3                     1960.0                     To Kill a Mockingbird   \n",
       "4                     1925.0                          The Great Gatsby   \n",
       "\n",
       "                                               title language_code  ...  \\\n",
       "0            The Hunger Games (The Hunger Games, #1)           eng  ...   \n",
       "1  Harry Potter and the Sorcerer's Stone (Harry P...           eng  ...   \n",
       "2                            Twilight (Twilight, #1)         en-US  ...   \n",
       "3                              To Kill a Mockingbird           eng  ...   \n",
       "4                                   The Great Gatsby           eng  ...   \n",
       "\n",
       "   ratings_count  work_ratings_count  work_text_reviews_count  ratings_1  \\\n",
       "0        4780653             4942365                   155254      66715   \n",
       "1        4602479             4800065                    75867      75504   \n",
       "2        3866839             3916824                    95009     456191   \n",
       "3        3198671             3340896                    72586      60427   \n",
       "4        2683664             2773745                    51992      86236   \n",
       "\n",
       "   ratings_2  ratings_3  ratings_4  ratings_5  \\\n",
       "0     127936     560092    1481305    2706317   \n",
       "1     101676     455024    1156318    3011543   \n",
       "2     436802     793319     875073    1355439   \n",
       "3     117415     446835    1001952    1714267   \n",
       "4     197621     606158     936012     947718   \n",
       "\n",
       "                                           image_url  \\\n",
       "0  https://images.gr-assets.com/books/1447303603m...   \n",
       "1  https://images.gr-assets.com/books/1474154022m...   \n",
       "2  https://images.gr-assets.com/books/1361039443m...   \n",
       "3  https://images.gr-assets.com/books/1361975680m...   \n",
       "4  https://images.gr-assets.com/books/1490528560m...   \n",
       "\n",
       "                                     small_image_url  \n",
       "0  https://images.gr-assets.com/books/1447303603s...  \n",
       "1  https://images.gr-assets.com/books/1474154022s...  \n",
       "2  https://images.gr-assets.com/books/1361039443s...  \n",
       "3  https://images.gr-assets.com/books/1361975680s...  \n",
       "4  https://images.gr-assets.com/books/1490528560s...  \n",
       "\n",
       "[5 rows x 21 columns]"
      ]
     },
     "execution_count": 34,
     "metadata": {},
     "output_type": "execute_result"
    }
   ],
   "source": [
    "df = pd.read_csv(\"books.csv\")\n",
    "df.head(5)"
   ]
  },
  {
   "cell_type": "code",
   "execution_count": 35,
   "id": "a4224e0b",
   "metadata": {},
   "outputs": [
    {
     "data": {
      "text/html": [
       "<div>\n",
       "<style scoped>\n",
       "    .dataframe tbody tr th:only-of-type {\n",
       "        vertical-align: middle;\n",
       "    }\n",
       "\n",
       "    .dataframe tbody tr th {\n",
       "        vertical-align: top;\n",
       "    }\n",
       "\n",
       "    .dataframe thead th {\n",
       "        text-align: right;\n",
       "    }\n",
       "</style>\n",
       "<table border=\"1\" class=\"dataframe\">\n",
       "  <thead>\n",
       "    <tr style=\"text-align: right;\">\n",
       "      <th></th>\n",
       "      <th>book_number</th>\n",
       "      <th>Rating</th>\n",
       "    </tr>\n",
       "  </thead>\n",
       "  <tbody>\n",
       "    <tr>\n",
       "      <th>0</th>\n",
       "      <td>272</td>\n",
       "      <td>0</td>\n",
       "    </tr>\n",
       "    <tr>\n",
       "      <th>1</th>\n",
       "      <td>491</td>\n",
       "      <td>5</td>\n",
       "    </tr>\n",
       "    <tr>\n",
       "      <th>2</th>\n",
       "      <td>226</td>\n",
       "      <td>0</td>\n",
       "    </tr>\n",
       "    <tr>\n",
       "      <th>3</th>\n",
       "      <td>487</td>\n",
       "      <td>3</td>\n",
       "    </tr>\n",
       "    <tr>\n",
       "      <th>4</th>\n",
       "      <td>1356</td>\n",
       "      <td>6</td>\n",
       "    </tr>\n",
       "  </tbody>\n",
       "</table>\n",
       "</div>"
      ],
      "text/plain": [
       "   book_number  Rating\n",
       "0          272       0\n",
       "1          491       5\n",
       "2          226       0\n",
       "3          487       3\n",
       "4         1356       6"
      ]
     },
     "execution_count": 35,
     "metadata": {},
     "output_type": "execute_result"
    }
   ],
   "source": [
    "df1 = pd.read_csv(\"Ratings.csv\")\n",
    "df1.head(5)"
   ]
  },
  {
   "cell_type": "code",
   "execution_count": 36,
   "id": "0e600d43",
   "metadata": {},
   "outputs": [
    {
     "name": "stdout",
     "output_type": "stream",
     "text": [
      "<class 'pandas.core.frame.DataFrame'>\n",
      "RangeIndex: 10000 entries, 0 to 9999\n",
      "Data columns (total 21 columns):\n",
      " #   Column                     Non-Null Count  Dtype  \n",
      "---  ------                     --------------  -----  \n",
      " 0   id                         10000 non-null  int64  \n",
      " 1   book_id                    10000 non-null  int64  \n",
      " 2   best_book_id               10000 non-null  int64  \n",
      " 3   work_id                    10000 non-null  int64  \n",
      " 4   book_number                10000 non-null  int64  \n",
      " 5   authors                    10000 non-null  object \n",
      " 6   original_publication_year  9979 non-null   float64\n",
      " 7   original_title             9415 non-null   object \n",
      " 8   title                      10000 non-null  object \n",
      " 9   language_code              8916 non-null   object \n",
      " 10  average_rating             10000 non-null  float64\n",
      " 11  ratings_count              10000 non-null  int64  \n",
      " 12  work_ratings_count         10000 non-null  int64  \n",
      " 13  work_text_reviews_count    10000 non-null  int64  \n",
      " 14  ratings_1                  10000 non-null  int64  \n",
      " 15  ratings_2                  10000 non-null  int64  \n",
      " 16  ratings_3                  10000 non-null  int64  \n",
      " 17  ratings_4                  10000 non-null  int64  \n",
      " 18  ratings_5                  10000 non-null  int64  \n",
      " 19  image_url                  10000 non-null  object \n",
      " 20  small_image_url            10000 non-null  object \n",
      "dtypes: float64(2), int64(13), object(6)\n",
      "memory usage: 1.6+ MB\n"
     ]
    }
   ],
   "source": [
    "df.info()"
   ]
  },
  {
   "cell_type": "code",
   "execution_count": 37,
   "id": "87a2604d",
   "metadata": {},
   "outputs": [
    {
     "name": "stdout",
     "output_type": "stream",
     "text": [
      "<class 'pandas.core.frame.DataFrame'>\n",
      "RangeIndex: 10000 entries, 0 to 9999\n",
      "Data columns (total 2 columns):\n",
      " #   Column       Non-Null Count  Dtype\n",
      "---  ------       --------------  -----\n",
      " 0   book_number  10000 non-null  int64\n",
      " 1   Rating       10000 non-null  int64\n",
      "dtypes: int64(2)\n",
      "memory usage: 156.4 KB\n"
     ]
    }
   ],
   "source": [
    "df1.info()"
   ]
  },
  {
   "cell_type": "code",
   "execution_count": 38,
   "id": "b9654368",
   "metadata": {},
   "outputs": [],
   "source": [
    "df1.columns = ['book_number','Rating']\n",
    "df2 = df.merge(df1, on = 'book_number')"
   ]
  },
  {
   "cell_type": "code",
   "execution_count": 39,
   "id": "b99478dd",
   "metadata": {},
   "outputs": [
    {
     "data": {
      "text/html": [
       "<div>\n",
       "<style scoped>\n",
       "    .dataframe tbody tr th:only-of-type {\n",
       "        vertical-align: middle;\n",
       "    }\n",
       "\n",
       "    .dataframe tbody tr th {\n",
       "        vertical-align: top;\n",
       "    }\n",
       "\n",
       "    .dataframe thead th {\n",
       "        text-align: right;\n",
       "    }\n",
       "</style>\n",
       "<table border=\"1\" class=\"dataframe\">\n",
       "  <thead>\n",
       "    <tr style=\"text-align: right;\">\n",
       "      <th></th>\n",
       "      <th>id</th>\n",
       "      <th>book_id</th>\n",
       "      <th>best_book_id</th>\n",
       "      <th>work_id</th>\n",
       "      <th>book_number</th>\n",
       "      <th>authors</th>\n",
       "      <th>original_publication_year</th>\n",
       "      <th>original_title</th>\n",
       "      <th>title</th>\n",
       "      <th>language_code</th>\n",
       "      <th>...</th>\n",
       "      <th>work_ratings_count</th>\n",
       "      <th>work_text_reviews_count</th>\n",
       "      <th>ratings_1</th>\n",
       "      <th>ratings_2</th>\n",
       "      <th>ratings_3</th>\n",
       "      <th>ratings_4</th>\n",
       "      <th>ratings_5</th>\n",
       "      <th>image_url</th>\n",
       "      <th>small_image_url</th>\n",
       "      <th>Rating</th>\n",
       "    </tr>\n",
       "  </thead>\n",
       "  <tbody>\n",
       "    <tr>\n",
       "      <th>0</th>\n",
       "      <td>1</td>\n",
       "      <td>2767052</td>\n",
       "      <td>2767052</td>\n",
       "      <td>2792775</td>\n",
       "      <td>272</td>\n",
       "      <td>Suzanne Collins</td>\n",
       "      <td>2008.0</td>\n",
       "      <td>The Hunger Games</td>\n",
       "      <td>The Hunger Games (The Hunger Games, #1)</td>\n",
       "      <td>eng</td>\n",
       "      <td>...</td>\n",
       "      <td>4942365</td>\n",
       "      <td>155254</td>\n",
       "      <td>66715</td>\n",
       "      <td>127936</td>\n",
       "      <td>560092</td>\n",
       "      <td>1481305</td>\n",
       "      <td>2706317</td>\n",
       "      <td>https://images.gr-assets.com/books/1447303603m...</td>\n",
       "      <td>https://images.gr-assets.com/books/1447303603s...</td>\n",
       "      <td>0</td>\n",
       "    </tr>\n",
       "    <tr>\n",
       "      <th>1</th>\n",
       "      <td>1</td>\n",
       "      <td>2767052</td>\n",
       "      <td>2767052</td>\n",
       "      <td>2792775</td>\n",
       "      <td>272</td>\n",
       "      <td>Suzanne Collins</td>\n",
       "      <td>2008.0</td>\n",
       "      <td>The Hunger Games</td>\n",
       "      <td>The Hunger Games (The Hunger Games, #1)</td>\n",
       "      <td>eng</td>\n",
       "      <td>...</td>\n",
       "      <td>4942365</td>\n",
       "      <td>155254</td>\n",
       "      <td>66715</td>\n",
       "      <td>127936</td>\n",
       "      <td>560092</td>\n",
       "      <td>1481305</td>\n",
       "      <td>2706317</td>\n",
       "      <td>https://images.gr-assets.com/books/1447303603m...</td>\n",
       "      <td>https://images.gr-assets.com/books/1447303603s...</td>\n",
       "      <td>8</td>\n",
       "    </tr>\n",
       "    <tr>\n",
       "      <th>2</th>\n",
       "      <td>8276</td>\n",
       "      <td>16076</td>\n",
       "      <td>16076</td>\n",
       "      <td>23893547</td>\n",
       "      <td>272</td>\n",
       "      <td>Kate Chopin</td>\n",
       "      <td>1899.0</td>\n",
       "      <td>The Awakening and Selected Short Stories</td>\n",
       "      <td>The Awakening and Selected Stories</td>\n",
       "      <td>eng</td>\n",
       "      <td>...</td>\n",
       "      <td>14092</td>\n",
       "      <td>618</td>\n",
       "      <td>486</td>\n",
       "      <td>1096</td>\n",
       "      <td>3210</td>\n",
       "      <td>4735</td>\n",
       "      <td>4565</td>\n",
       "      <td>https://images.gr-assets.com/books/1403398895m...</td>\n",
       "      <td>https://images.gr-assets.com/books/1403398895s...</td>\n",
       "      <td>0</td>\n",
       "    </tr>\n",
       "    <tr>\n",
       "      <th>3</th>\n",
       "      <td>8276</td>\n",
       "      <td>16076</td>\n",
       "      <td>16076</td>\n",
       "      <td>23893547</td>\n",
       "      <td>272</td>\n",
       "      <td>Kate Chopin</td>\n",
       "      <td>1899.0</td>\n",
       "      <td>The Awakening and Selected Short Stories</td>\n",
       "      <td>The Awakening and Selected Stories</td>\n",
       "      <td>eng</td>\n",
       "      <td>...</td>\n",
       "      <td>14092</td>\n",
       "      <td>618</td>\n",
       "      <td>486</td>\n",
       "      <td>1096</td>\n",
       "      <td>3210</td>\n",
       "      <td>4735</td>\n",
       "      <td>4565</td>\n",
       "      <td>https://images.gr-assets.com/books/1403398895m...</td>\n",
       "      <td>https://images.gr-assets.com/books/1403398895s...</td>\n",
       "      <td>8</td>\n",
       "    </tr>\n",
       "    <tr>\n",
       "      <th>4</th>\n",
       "      <td>2</td>\n",
       "      <td>3</td>\n",
       "      <td>3</td>\n",
       "      <td>4640799</td>\n",
       "      <td>491</td>\n",
       "      <td>JK Rowling</td>\n",
       "      <td>1997.0</td>\n",
       "      <td>Harry Potter and the Philosopher's Stone</td>\n",
       "      <td>Harry Potter and the Sorcerer's Stone (Harry P...</td>\n",
       "      <td>eng</td>\n",
       "      <td>...</td>\n",
       "      <td>4800065</td>\n",
       "      <td>75867</td>\n",
       "      <td>75504</td>\n",
       "      <td>101676</td>\n",
       "      <td>455024</td>\n",
       "      <td>1156318</td>\n",
       "      <td>3011543</td>\n",
       "      <td>https://images.gr-assets.com/books/1474154022m...</td>\n",
       "      <td>https://images.gr-assets.com/books/1474154022s...</td>\n",
       "      <td>5</td>\n",
       "    </tr>\n",
       "  </tbody>\n",
       "</table>\n",
       "<p>5 rows × 22 columns</p>\n",
       "</div>"
      ],
      "text/plain": [
       "     id  book_id  best_book_id   work_id  book_number          authors  \\\n",
       "0     1  2767052       2767052   2792775          272  Suzanne Collins   \n",
       "1     1  2767052       2767052   2792775          272  Suzanne Collins   \n",
       "2  8276    16076         16076  23893547          272      Kate Chopin   \n",
       "3  8276    16076         16076  23893547          272      Kate Chopin   \n",
       "4     2        3             3   4640799          491       JK Rowling   \n",
       "\n",
       "   original_publication_year                            original_title  \\\n",
       "0                     2008.0                          The Hunger Games   \n",
       "1                     2008.0                          The Hunger Games   \n",
       "2                     1899.0  The Awakening and Selected Short Stories   \n",
       "3                     1899.0  The Awakening and Selected Short Stories   \n",
       "4                     1997.0  Harry Potter and the Philosopher's Stone   \n",
       "\n",
       "                                               title language_code  ...  \\\n",
       "0            The Hunger Games (The Hunger Games, #1)           eng  ...   \n",
       "1            The Hunger Games (The Hunger Games, #1)           eng  ...   \n",
       "2                 The Awakening and Selected Stories           eng  ...   \n",
       "3                 The Awakening and Selected Stories           eng  ...   \n",
       "4  Harry Potter and the Sorcerer's Stone (Harry P...           eng  ...   \n",
       "\n",
       "   work_ratings_count  work_text_reviews_count  ratings_1  ratings_2  \\\n",
       "0             4942365                   155254      66715     127936   \n",
       "1             4942365                   155254      66715     127936   \n",
       "2               14092                      618        486       1096   \n",
       "3               14092                      618        486       1096   \n",
       "4             4800065                    75867      75504     101676   \n",
       "\n",
       "   ratings_3  ratings_4  ratings_5  \\\n",
       "0     560092    1481305    2706317   \n",
       "1     560092    1481305    2706317   \n",
       "2       3210       4735       4565   \n",
       "3       3210       4735       4565   \n",
       "4     455024    1156318    3011543   \n",
       "\n",
       "                                           image_url  \\\n",
       "0  https://images.gr-assets.com/books/1447303603m...   \n",
       "1  https://images.gr-assets.com/books/1447303603m...   \n",
       "2  https://images.gr-assets.com/books/1403398895m...   \n",
       "3  https://images.gr-assets.com/books/1403398895m...   \n",
       "4  https://images.gr-assets.com/books/1474154022m...   \n",
       "\n",
       "                                     small_image_url Rating  \n",
       "0  https://images.gr-assets.com/books/1447303603s...      0  \n",
       "1  https://images.gr-assets.com/books/1447303603s...      8  \n",
       "2  https://images.gr-assets.com/books/1403398895s...      0  \n",
       "3  https://images.gr-assets.com/books/1403398895s...      8  \n",
       "4  https://images.gr-assets.com/books/1474154022s...      5  \n",
       "\n",
       "[5 rows x 22 columns]"
      ]
     },
     "execution_count": 39,
     "metadata": {},
     "output_type": "execute_result"
    }
   ],
   "source": [
    "df2.head(5)"
   ]
  },
  {
   "cell_type": "code",
   "execution_count": 40,
   "id": "cde20808",
   "metadata": {},
   "outputs": [
    {
     "data": {
      "text/plain": [
       "(992600, 22)"
      ]
     },
     "execution_count": 40,
     "metadata": {},
     "output_type": "execute_result"
    }
   ],
   "source": [
    "df2.shape"
   ]
  },
  {
   "cell_type": "code",
   "execution_count": 41,
   "id": "308c9aad",
   "metadata": {},
   "outputs": [
    {
     "data": {
      "text/plain": [
       "Index(['id', 'book_id', 'best_book_id', 'work_id', 'book_number', 'authors',\n",
       "       'original_publication_year', 'original_title', 'title', 'language_code',\n",
       "       'average_rating', 'ratings_count', 'work_ratings_count',\n",
       "       'work_text_reviews_count', 'ratings_1', 'ratings_2', 'ratings_3',\n",
       "       'ratings_4', 'ratings_5', 'image_url', 'small_image_url', 'Rating'],\n",
       "      dtype='object')"
      ]
     },
     "execution_count": 41,
     "metadata": {},
     "output_type": "execute_result"
    }
   ],
   "source": [
    "df2.columns"
   ]
  },
  {
   "cell_type": "code",
   "execution_count": 42,
   "id": "90a99aa4",
   "metadata": {},
   "outputs": [],
   "source": [
    "#Select necessary columns from the csv file.\n",
    "df2=df2[['book_number','authors','title','Rating']]"
   ]
  },
  {
   "cell_type": "code",
   "execution_count": 43,
   "id": "68945813",
   "metadata": {},
   "outputs": [],
   "source": [
    "#Data Preprocessing\n",
    "#loc is utilized to pick rows by label or index.\n",
    "#Select the value by the row and column label.\n",
    "df2.loc[(df2['authors'].isnull()), 'authors'] = 'Unknown' \n",
    "df2.loc[(df2['title'].isnull()), 'title'] = 'Unknown'\n",
    "\n",
    "#Converting data into the lower cases\n",
    "df2['title'] = df2['title'].apply(lambda x: \" \".join(x.lower() for x in x.split())) \n",
    "df2['authors'] = df2['authors'].apply(lambda x: \" \".join(x.lower() for x in x.split()))\n",
    "\n",
    "#Maintain all the information from the selected data column separate using commas in the \"words\".\n",
    "df2['words'] = \"\" \n",
    "df2.loc[:,'words'] = df2.loc[:, 'title'] +', '+ df2.loc[:, 'authors']  "
   ]
  },
  {
   "cell_type": "code",
   "execution_count": 44,
   "id": "d47776aa",
   "metadata": {},
   "outputs": [
    {
     "data": {
      "text/html": [
       "<div>\n",
       "<style scoped>\n",
       "    .dataframe tbody tr th:only-of-type {\n",
       "        vertical-align: middle;\n",
       "    }\n",
       "\n",
       "    .dataframe tbody tr th {\n",
       "        vertical-align: top;\n",
       "    }\n",
       "\n",
       "    .dataframe thead th {\n",
       "        text-align: right;\n",
       "    }\n",
       "</style>\n",
       "<table border=\"1\" class=\"dataframe\">\n",
       "  <thead>\n",
       "    <tr style=\"text-align: right;\">\n",
       "      <th></th>\n",
       "      <th>book_number</th>\n",
       "      <th>authors</th>\n",
       "      <th>title</th>\n",
       "      <th>Rating</th>\n",
       "      <th>words</th>\n",
       "    </tr>\n",
       "  </thead>\n",
       "  <tbody>\n",
       "    <tr>\n",
       "      <th>0</th>\n",
       "      <td>272</td>\n",
       "      <td>suzanne collins</td>\n",
       "      <td>the hunger games (the hunger games, #1)</td>\n",
       "      <td>0</td>\n",
       "      <td>the hunger games (the hunger games, #1), suzan...</td>\n",
       "    </tr>\n",
       "    <tr>\n",
       "      <th>1</th>\n",
       "      <td>272</td>\n",
       "      <td>suzanne collins</td>\n",
       "      <td>the hunger games (the hunger games, #1)</td>\n",
       "      <td>8</td>\n",
       "      <td>the hunger games (the hunger games, #1), suzan...</td>\n",
       "    </tr>\n",
       "    <tr>\n",
       "      <th>2</th>\n",
       "      <td>272</td>\n",
       "      <td>kate chopin</td>\n",
       "      <td>the awakening and selected stories</td>\n",
       "      <td>0</td>\n",
       "      <td>the awakening and selected stories, kate chopin</td>\n",
       "    </tr>\n",
       "    <tr>\n",
       "      <th>3</th>\n",
       "      <td>272</td>\n",
       "      <td>kate chopin</td>\n",
       "      <td>the awakening and selected stories</td>\n",
       "      <td>8</td>\n",
       "      <td>the awakening and selected stories, kate chopin</td>\n",
       "    </tr>\n",
       "    <tr>\n",
       "      <th>4</th>\n",
       "      <td>491</td>\n",
       "      <td>jk rowling</td>\n",
       "      <td>harry potter and the sorcerer's stone (harry p...</td>\n",
       "      <td>5</td>\n",
       "      <td>harry potter and the sorcerer's stone (harry p...</td>\n",
       "    </tr>\n",
       "  </tbody>\n",
       "</table>\n",
       "</div>"
      ],
      "text/plain": [
       "   book_number          authors  \\\n",
       "0          272  suzanne collins   \n",
       "1          272  suzanne collins   \n",
       "2          272      kate chopin   \n",
       "3          272      kate chopin   \n",
       "4          491       jk rowling   \n",
       "\n",
       "                                               title  Rating  \\\n",
       "0            the hunger games (the hunger games, #1)       0   \n",
       "1            the hunger games (the hunger games, #1)       8   \n",
       "2                 the awakening and selected stories       0   \n",
       "3                 the awakening and selected stories       8   \n",
       "4  harry potter and the sorcerer's stone (harry p...       5   \n",
       "\n",
       "                                               words  \n",
       "0  the hunger games (the hunger games, #1), suzan...  \n",
       "1  the hunger games (the hunger games, #1), suzan...  \n",
       "2    the awakening and selected stories, kate chopin  \n",
       "3    the awakening and selected stories, kate chopin  \n",
       "4  harry potter and the sorcerer's stone (harry p...  "
      ]
     },
     "execution_count": 44,
     "metadata": {},
     "output_type": "execute_result"
    }
   ],
   "source": [
    "df2.head()"
   ]
  },
  {
   "cell_type": "code",
   "execution_count": 45,
   "id": "70019efd",
   "metadata": {},
   "outputs": [
    {
     "data": {
      "text/plain": [
       "0     468991\n",
       "10    141880\n",
       "8     135285\n",
       "9     108034\n",
       "7      71376\n",
       "6      28156\n",
       "5      25158\n",
       "2       6238\n",
       "4       3842\n",
       "3       3551\n",
       "1         89\n",
       "Name: Rating, dtype: int64"
      ]
     },
     "execution_count": 45,
     "metadata": {},
     "output_type": "execute_result"
    }
   ],
   "source": [
    "df2.Rating.value_counts()"
   ]
  },
  {
   "cell_type": "code",
   "execution_count": 46,
   "id": "bf5d3172",
   "metadata": {},
   "outputs": [],
   "source": [
    "from sklearn.preprocessing import LabelEncoder\n",
    "\n",
    "LE = LabelEncoder()"
   ]
  },
  {
   "cell_type": "code",
   "execution_count": 47,
   "id": "d1a0ef5f",
   "metadata": {},
   "outputs": [
    {
     "data": {
      "text/plain": [
       "<AxesSubplot:>"
      ]
     },
     "execution_count": 47,
     "metadata": {},
     "output_type": "execute_result"
    },
    {
     "data": {
      "image/png": "[encoded data removed]",
      "text/plain": [
       "<Figure size 432x288 with 2 Axes>"
      ]
     },
     "metadata": {
      "needs_background": "light"
     },
     "output_type": "display_data"
    }
   ],
   "source": [
    "sns.heatmap(df2.corr(), annot = True)"
   ]
  },
  {
   "cell_type": "code",
   "execution_count": 48,
   "id": "5ecc7205",
   "metadata": {},
   "outputs": [],
   "source": [
    "from sklearn.utils import resample\n",
    "zero = df1[df1.Rating ==0 ]\n",
    "one = df1[df1.Rating == 1]"
   ]
  },
  {
   "cell_type": "code",
   "execution_count": 49,
   "id": "2aae6108",
   "metadata": {},
   "outputs": [
    {
     "data": {
      "text/plain": [
       "4826"
      ]
     },
     "execution_count": 49,
     "metadata": {},
     "output_type": "execute_result"
    }
   ],
   "source": [
    "len(zero)"
   ]
  },
  {
   "cell_type": "code",
   "execution_count": 50,
   "id": "13a49e87",
   "metadata": {},
   "outputs": [],
   "source": [
    "df_final = resample(one, n_samples = len(zero))\n",
    "df_Final = pd.concat([df_final,zero],axis = 0)"
   ]
  },
  {
   "cell_type": "code",
   "execution_count": 51,
   "id": "9586308b",
   "metadata": {},
   "outputs": [
    {
     "data": {
      "text/plain": [
       "1    4826\n",
       "0    4826\n",
       "Name: Rating, dtype: int64"
      ]
     },
     "execution_count": 51,
     "metadata": {},
     "output_type": "execute_result"
    }
   ],
   "source": [
    "df_Final.Rating.value_counts()"
   ]
  },
  {
   "cell_type": "code",
   "execution_count": 52,
   "id": "a2b009bc",
   "metadata": {},
   "outputs": [],
   "source": [
    "from sklearn.model_selection import train_test_split\n",
    "X = df_Final.drop(columns = ['Rating'])\n",
    "y = df_Final['Rating']\n",
    "x_train,x_test,y_train,y_test = train_test_split(X,y,test_size = 0.5, random_state = 42)"
   ]
  },
  {
   "cell_type": "code",
   "execution_count": 53,
   "id": "bcd2999e",
   "metadata": {},
   "outputs": [
    {
     "data": {
      "text/plain": [
       "(4826, 1)"
      ]
     },
     "execution_count": 53,
     "metadata": {},
     "output_type": "execute_result"
    }
   ],
   "source": [
    "x_train.shape"
   ]
  },
  {
   "cell_type": "code",
   "execution_count": 54,
   "id": "a4535286",
   "metadata": {},
   "outputs": [],
   "source": [
    "cm_x = x_train[:1000]\n",
    "cm_y = y_train[:1000]"
   ]
  },
  {
   "cell_type": "code",
   "execution_count": 55,
   "id": "a70b3ba8",
   "metadata": {},
   "outputs": [],
   "source": [
    "from sklearn.ensemble import RandomForestClassifier\n",
    "RFC = RandomForestClassifier(random_state=43)"
   ]
  },
  {
   "cell_type": "code",
   "execution_count": 56,
   "id": "3e4ae13e",
   "metadata": {},
   "outputs": [],
   "source": [
    "model = RFC.fit(cm_x,cm_y)"
   ]
  },
  {
   "cell_type": "code",
   "execution_count": 57,
   "id": "03d9eac3",
   "metadata": {},
   "outputs": [],
   "source": [
    "y_pred = model.predict(x_test)"
   ]
  },
  {
   "cell_type": "code",
   "execution_count": 58,
   "id": "fe3b2e38",
   "metadata": {},
   "outputs": [],
   "source": [
    "from sklearn.metrics import classification_report, confusion_matrix\n",
    "report = classification_report(y_test,y_pred)"
   ]
  },
  {
   "cell_type": "code",
   "execution_count": 59,
   "id": "5d3c2dac",
   "metadata": {},
   "outputs": [
    {
     "name": "stdout",
     "output_type": "stream",
     "text": [
      "              precision    recall  f1-score   support\n",
      "\n",
      "           0       1.00      0.99      0.99      2374\n",
      "           1       0.99      1.00      0.99      2452\n",
      "\n",
      "    accuracy                           0.99      4826\n",
      "   macro avg       0.99      0.99      0.99      4826\n",
      "weighted avg       0.99      0.99      0.99      4826\n",
      "\n"
     ]
    }
   ],
   "source": [
    "print(report)"
   ]
  },
  {
   "cell_type": "code",
   "execution_count": 60,
   "id": "9c1aa0b1",
   "metadata": {},
   "outputs": [
    {
     "name": "stderr",
     "output_type": "stream",
     "text": [
      "D:\\app folder\\Anaconda\\lib\\site-packages\\sklearn\\utils\\deprecation.py:87: FutureWarning: Function plot_confusion_matrix is deprecated; Function `plot_confusion_matrix` is deprecated in 1.0 and will be removed in 1.2. Use one of the class methods: ConfusionMatrixDisplay.from_predictions or ConfusionMatrixDisplay.from_estimator.\n",
      "  warnings.warn(msg, category=FutureWarning)\n"
     ]
    },
    {
     "data": {
      "image/png": "[encoded data removed]",
      "text/plain": [
       "<Figure size 432x288 with 2 Axes>"
      ]
     },
     "metadata": {
      "needs_background": "light"
     },
     "output_type": "display_data"
    }
   ],
   "source": [
    "from sklearn.metrics import plot_confusion_matrix\n",
    "plot_confusion_matrix(model, x_test, y_test)\n",
    "plt.show()"
   ]
  },
  {
   "cell_type": "code",
   "execution_count": 61,
   "id": "87f508d1",
   "metadata": {},
   "outputs": [],
   "source": [
    "#Creating a vector for the book datas\n",
    "\n",
    "#The word count is specified and the sparse matrix got as a output.\n",
    "vectorizer = TfidfVectorizer()\n",
    "tfidf = vectorizer.fit_transform(df2[\"words\"]) "
   ]
  },
  {
   "cell_type": "code",
   "execution_count": null,
   "id": "e4926ebe",
   "metadata": {},
   "outputs": [],
   "source": [
    "#Calculate similarity by cosine similarity\n",
    "cosine_sim = cosine_similarity(tfidf, tfidf)\n",
    "cosine_sim"
   ]
  },
  {
   "cell_type": "code",
   "execution_count": null,
   "id": "2758978c",
   "metadata": {},
   "outputs": [],
   "source": [
    "#Create function for recommendation\n",
    "def recommendation(Title, cosine_sim):\n",
    "    recommended = np.array([])\n",
    "    index_ = df2.loc[(df2['title'] == Title)].index\n",
    "    score = cosine_sim[index_]\n",
    "    #Create a partition indirectly along the specified axis.\n",
    "    indic = np.argpartition(score[0],[-10])[-8:] \n",
    "    #Carries out an indirect sort along the specified axis.\n",
    "    indic = indic[np.argsort(score[0][indic])]\n",
    "    return indic\n",
    "                   "
   ]
  },
  {
   "cell_type": "code",
   "execution_count": null,
   "id": "3e3af0b1",
   "metadata": {},
   "outputs": [],
   "source": [
    "#Recommending books similar to the book \"Birth of a Theorem\"\n",
    "indices = recommendation('The Hobbit', cosine_sim)\n",
    "df2[['book_number','authors','title','Rating']].loc[indices]"
   ]
  },
  {
   "cell_type": "code",
   "execution_count": null,
   "id": "ebd80ec4",
   "metadata": {},
   "outputs": [],
   "source": []
  }
 ],
 "metadata": {
  "kernelspec": {
   "display_name": "Python 3 (ipykernel)",
   "language": "python",
   "name": "python3"
  },
  "language_info": {
   "codemirror_mode": {
    "name": "ipython",
    "version": 3
   },
   "file_extension": ".py",
   "mimetype": "text/x-python",
   "name": "python",
   "nbconvert_exporter": "python",
   "pygments_lexer": "ipython3",
   "version": "3.9.12"
  }
 },
 "nbformat": 4,
 "nbformat_minor": 5
}
